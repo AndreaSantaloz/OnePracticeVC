{
 "cells": [
  {
   "metadata": {},
   "cell_type": "markdown",
   "source": [
    "# Entrega P1\n",
    "###### Luis Martín Pérez, Andrea Santana López\n",
    "---"
   ],
   "id": "a9801b55aac9f965"
  },
  {
   "metadata": {},
   "cell_type": "markdown",
   "source": "Se importan las librerías",
   "id": "e8bba54ffd60bcdc"
  },
  {
   "metadata": {
    "ExecuteTime": {
     "end_time": "2025-09-13T12:44:09.950696Z",
     "start_time": "2025-09-13T12:44:09.639544Z"
    }
   },
   "cell_type": "code",
   "source": [
    "import cv2\n",
    "import matplotlib.pyplot as plt\n",
    "import numpy as np"
   ],
   "id": "5ddf0cf724381e10",
   "outputs": [],
   "execution_count": 2
  },
  {
   "metadata": {},
   "cell_type": "markdown",
   "source": "### 1 - Tablero de Ajedrez",
   "id": "1dbeac6f8ab0d415"
  },
  {
   "metadata": {
    "ExecuteTime": {
     "end_time": "2025-09-12T21:07:06.504374Z",
     "start_time": "2025-09-12T21:07:06.293214Z"
    }
   },
   "cell_type": "code",
   "source": [
    "board_size = 800\n",
    "\n",
    "# Se divide la imagen en una cuadrícula 8 x 8\n",
    "cell_number = 8\n",
    "cell_size = int(board_size / cell_number)\n",
    "\n",
    "# Se inicializa la imagen\n",
    "chess_board_img = np.zeros((board_size, board_size, 1), dtype=np.uint8)\n",
    "\n",
    "for row in range(cell_number):\n",
    "    for column in range(0, cell_number, 2):\n",
    "        cell_x = row * cell_size\n",
    "        # En las filas impares se rueda una posición a la derecha\n",
    "        cell_y = (column + row%2) * cell_size\n",
    "        # Pintamos las cuadrículas de las columnas pares en blanco\n",
    "        chess_board_img[cell_x:cell_x + cell_size, cell_y:cell_y + cell_size, 0] = 255\n",
    "\n",
    "# Mostrar imagen de escala de grises\n",
    "plt.imshow(chess_board_img, cmap='gray',vmin=0, vmax=255)"
   ],
   "id": "81884d1f2b2160ca",
   "outputs": [
    {
     "data": {
      "text/plain": [
       "<matplotlib.image.AxesImage at 0x7f2b7c517e50>"
      ]
     },
     "execution_count": 95,
     "metadata": {},
     "output_type": "execute_result"
    },
    {
     "data": {
      "text/plain": [
       "<Figure size 640x480 with 1 Axes>"
      ],
      "image/png": "[encoded data removed]"
     },
     "metadata": {},
     "output_type": "display_data",
     "jetTransient": {
      "display_id": null
     }
    }
   ],
   "execution_count": 95
  },
  {
   "metadata": {},
   "cell_type": "markdown",
   "source": "### 2 - Imagen estilo ***Mondrian***",
   "id": "c5006818bc99bf32"
  },
  {
   "metadata": {
    "ExecuteTime": {
     "end_time": "2025-09-13T13:06:29.571643Z",
     "start_time": "2025-09-13T13:06:29.357103Z"
    }
   },
   "cell_type": "code",
   "source": [
    "mondrian_size = 1024\n",
    "\n",
    "# Se divide la imagen en una cuadrícula de 50 x 50\n",
    "divisions = 50\n",
    "division_size = int(mondrian_size / divisions)\n",
    "# El resto de la division se pone como margen para centrar la cuadrícula\n",
    "margin = int(mondrian_size % divisions / 2)\n",
    "\n",
    "mondrian_img = np.zeros((mondrian_size, mondrian_size, 3), dtype=np.uint8)\n",
    "\n",
    "# Estructura de datos para simplificar el diseño\n",
    "class Rectangle:\n",
    "    def __init__(self, x, y, end_x, end_y, color):\n",
    "        self.x = x\n",
    "        self.y = y\n",
    "        self.end_x = end_x\n",
    "        self.end_y = end_y\n",
    "        self.color = color\n",
    "\n",
    "rectangles = [\n",
    "    Rectangle(15,0,50,35,(255,0,0)),\n",
    "    Rectangle(0,0,14,14,(255,255,255)),\n",
    "    Rectangle(0,16,14,35,(255,255,255)),\n",
    "    Rectangle(0,36,14,50,(0,0,255)),\n",
    "    Rectangle(15,36,45,50,(255,255,255)),\n",
    "    Rectangle(46,36,50,43,(255,255,255)),\n",
    "    Rectangle(46,44,50,50,(255,255,0)),\n",
    "]\n",
    "\n",
    "# Dentro del bucle se transforman las coordenadas de la cuadrícula a las de la imagen\n",
    "for r in rectangles:\n",
    "    start_x = r.x * division_size + margin\n",
    "    start_y = r.y * division_size + margin\n",
    "    width = r.end_x - r.x\n",
    "    height = r.end_y - r.y\n",
    "    cv2.rectangle(mondrian_img,(start_x ,start_y), (start_x + division_size * width, start_y + division_size * height), r.color,-1)\n",
    "\n",
    "\n",
    "plt.imshow(mondrian_img)\n",
    "\n",
    "# Se guarda la imagen en disco para venderla\n",
    "bgr_img = cv2.cvtColor(mondrian_img, cv2.COLOR_BGR2RGB)\n",
    "cv2.imwrite('mondrian.jpg', bgr_img)"
   ],
   "id": "b781e2042995891e",
   "outputs": [
    {
     "data": {
      "text/plain": [
       "True"
      ]
     },
     "execution_count": 5,
     "metadata": {},
     "output_type": "execute_result"
    },
    {
     "data": {
      "text/plain": [
       "<Figure size 640x480 with 1 Axes>"
      ],
      "image/png": "[encoded data removed]"
     },
     "metadata": {},
     "output_type": "display_data",
     "jetTransient": {
      "display_id": null
     }
    }
   ],
   "execution_count": 5
  },
  {
   "metadata": {},
   "cell_type": "markdown",
   "source": "### 3 - Modificar los planos de color",
   "id": "5fba8c4e953de52a"
  },
  {
   "metadata": {
    "ExecuteTime": {
     "end_time": "2025-09-13T12:44:59.731912Z",
     "start_time": "2025-09-13T12:44:14.102087Z"
    }
   },
   "cell_type": "code",
   "source": [
    "vid = cv2.VideoCapture(0)\n",
    "\n",
    "while(True):\n",
    "    # fotograma a fotograma\n",
    "    ret, frame = vid.read()\n",
    "\n",
    "    if ret:\n",
    "        # Se redimensiona la captura de la cámara para hacer un collage\n",
    "        h, w, c = frame.shape\n",
    "        new_size = (int(w*0.6),int(h/2))\n",
    "        new_size_rgb = (new_size[1], new_size[0], 3)\n",
    "        frame = cv2.resize(frame, new_size, cv2.INTER_NEAREST)\n",
    "\n",
    "        # Separamos canales de color\n",
    "        b = frame[:,:,0]\n",
    "        g = frame[:,:,1]\n",
    "        r = frame[:,:,2]\n",
    "\n",
    "        # Se inicializan los recuadros correspondientes\n",
    "        red = np.zeros(new_size_rgb, dtype = np.uint8)\n",
    "        blue = np.zeros(new_size_rgb, dtype = np.uint8)\n",
    "        green = np.zeros(new_size_rgb, dtype = np.uint8)\n",
    "\n",
    "        yellow = np.zeros(new_size_rgb, dtype = np.uint8)\n",
    "        magenta = np.zeros(new_size_rgb, dtype = np.uint8)\n",
    "        cyan = np.zeros(new_size_rgb, dtype = np.uint8)\n",
    "\n",
    "        invert_red = np.zeros(new_size_rgb, dtype = np.uint8)\n",
    "        invert_green = np.zeros(new_size_rgb, dtype = np.uint8)\n",
    "        invert_blue = np.zeros(new_size_rgb, dtype = np.uint8)\n",
    "\n",
    "        creepy_1 = np.zeros(new_size_rgb, dtype = np.uint8)\n",
    "        creepy_2 = np.zeros(new_size_rgb, dtype = np.uint8)\n",
    "        creepy_3 = np.zeros(new_size_rgb, dtype = np.uint8)\n",
    "\n",
    "        # Se separan los planos RGB\n",
    "        red[:,:,2] = r\n",
    "        green[:,:,1] = g\n",
    "        blue[:,:,0] = b\n",
    "\n",
    "        # Se crean los colores primarios del esquema de color CMY\n",
    "        yellow[:,:,2] = r\n",
    "        yellow[:,:,1] = g\n",
    "\n",
    "        magenta[:,:,2] = r\n",
    "        magenta[:,:,0] = b\n",
    "\n",
    "        cyan[:,:,1] = g\n",
    "        cyan[:,:,0] = b\n",
    "\n",
    "        # Se invierte cada canal de color\n",
    "        invert_red[:,:,2] = 255 - r\n",
    "        invert_red[:,:,1] = g\n",
    "        invert_red[:,:,0] = b\n",
    "\n",
    "        invert_green[:,:,2] = r\n",
    "        invert_green[:,:,1] = 255 - g\n",
    "        invert_green[:,:,0] = b\n",
    "\n",
    "        invert_blue[:,:,2] = r\n",
    "        invert_blue[:,:,1] = g\n",
    "        invert_blue[:,:,0] = 255 - b\n",
    "\n",
    "        # Experimentando para obtener imágenes espeluznantes\n",
    "        creepy_1[:,:,2] = 140 - r\n",
    "        creepy_1[:,:,1] = b/3\n",
    "        creepy_1[:,:,0] = 0\n",
    "\n",
    "        creepy_2[:,:,2] = 60 - b\n",
    "        creepy_2[:,:,1] = 0\n",
    "        creepy_2[:,:,0] = g\n",
    "\n",
    "        creepy_3[:,:,2] = 255 - b\n",
    "        creepy_3[:,:,1] = 60 - r\n",
    "        creepy_3[:,:,0] = 30 - g\n",
    "\n",
    "\n",
    "        # Se crean las filas\n",
    "        rgb_collage = np.hstack((red, green, blue))\n",
    "        ymc_collage = np.hstack((yellow, magenta, cyan))\n",
    "        invert_collage = np.hstack((invert_red, invert_green, invert_blue))\n",
    "        creepy_collage = np.hstack((creepy_1, creepy_2, creepy_3))\n",
    "\n",
    "        # Se finaliza el collage agrupando en vertical\n",
    "        collage = np.vstack((rgb_collage, ymc_collage, invert_collage, creepy_collage))\n",
    "\n",
    "        cv2.imshow('Color planes', collage)\n",
    "\n",
    "    # Detenemos pulsado ESC\n",
    "    if cv2.waitKey(20) == 27:\n",
    "        break\n",
    "\n",
    "vid.release()\n",
    "cv2.destroyAllWindows()"
   ],
   "id": "895f7bc0bf388208",
   "outputs": [
    {
     "name": "stderr",
     "output_type": "stream",
     "text": [
      "Warning: Ignoring XDG_SESSION_TYPE=wayland on Gnome. Use QT_QPA_PLATFORM=wayland to run on Wayland anyway.\n"
     ]
    }
   ],
   "execution_count": 3
  }
 ],
 "metadata": {
  "kernelspec": {
   "display_name": "Python 3",
   "language": "python",
   "name": "python3"
  },
  "language_info": {
   "codemirror_mode": {
    "name": "ipython",
    "version": 2
   },
   "file_extension": ".py",
   "mimetype": "text/x-python",
   "name": "python",
   "nbconvert_exporter": "python",
   "pygments_lexer": "ipython2",
   "version": "2.7.6"
  }
 },
 "nbformat": 4,
 "nbformat_minor": 5
}
