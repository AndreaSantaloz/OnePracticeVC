{
 "cells": [
  {
   "metadata": {},
   "cell_type": "markdown",
   "source": [
    "# Entrega P1\n",
    "###### Luis Martín Pérez, Andrea Santana López\n",
    "---"
   ],
   "id": "db75a8897a5332b0"
  },
  {
   "metadata": {},
   "cell_type": "markdown",
   "source": "Se importan las librerías",
   "id": "9ce15caaa0dda22c"
  },
  {
   "metadata": {},
   "cell_type": "code",
   "outputs": [],
   "execution_count": null,
   "source": [
    "import cv2\n",
    "import matplotlib.pyplot as plt\n",
    "import numpy as np"
   ],
   "id": "839c6f40d361c855"
  },
  {
   "metadata": {},
   "cell_type": "markdown",
   "source": "### 1 - Tablero de Ajedrez",
   "id": "193319aeb8cd70a3"
  },
  {
   "metadata": {},
   "cell_type": "code",
   "outputs": [],
   "execution_count": null,
   "source": [
    "board_size = 800\n",
    "\n",
    "# Se divide la imagen en una cuadrícula 8 x 8\n",
    "cell_number = 8\n",
    "cell_size = int(board_size / cell_number)\n",
    "\n",
    "# Se inicializa la imagen\n",
    "chess_board_img = np.zeros((board_size, board_size, 1), dtype=np.uint8)\n",
    "\n",
    "for row in range(cell_number):\n",
    "    for column in range(0, cell_number, 2):\n",
    "        cell_x = row * cell_size\n",
    "        # En las filas impares se rueda una posición a la derecha\n",
    "        cell_y = (column + row%2) * cell_size\n",
    "        # Pintamos las cuadrículas de las columnas pares en blanco\n",
    "        chess_board_img[cell_x:cell_x + cell_size, cell_y:cell_y + cell_size, 0] = 255\n",
    "\n",
    "# Mostrar imagen de escala de grises\n",
    "plt.imshow(chess_board_img, cmap='gray',vmin=0, vmax=255)"
   ],
   "id": "6b4720b77b500073"
  },
  {
   "metadata": {},
   "cell_type": "markdown",
   "source": "### 2 - Imagen estilo ***Mondrian***",
   "id": "9489d6705b09defb"
  },
  {
   "metadata": {},
   "cell_type": "code",
   "outputs": [],
   "execution_count": null,
   "source": [
    "mondrian_size = 1024\n",
    "\n",
    "# Se divide la imagen en una cuadrícula de 50 x 50\n",
    "divisions = 50\n",
    "division_size = int(mondrian_size / divisions)\n",
    "# El resto de la division se pone como margen para centrar la cuadrícula\n",
    "margin = int(mondrian_size % divisions / 2)\n",
    "\n",
    "mondrian_img = np.zeros((mondrian_size, mondrian_size, 3), dtype=np.uint8)\n",
    "\n",
    "# Estructura de datos para simplificar el diseño\n",
    "class Rectangle:\n",
    "    def __init__(self, x, y, end_x, end_y, color):\n",
    "        self.x = x\n",
    "        self.y = y\n",
    "        self.end_x = end_x\n",
    "        self.end_y = end_y\n",
    "        self.color = color\n",
    "\n",
    "rectangles = [\n",
    "    Rectangle(15,0,50,35,(255,0,0)),\n",
    "    Rectangle(0,0,14,14,(255,255,255)),\n",
    "    Rectangle(0,16,14,35,(255,255,255)),\n",
    "    Rectangle(0,36,14,50,(0,0,255)),\n",
    "    Rectangle(15,36,45,50,(255,255,255)),\n",
    "    Rectangle(46,36,50,43,(255,255,255)),\n",
    "    Rectangle(46,44,50,50,(255,255,0)),\n",
    "]\n",
    "\n",
    "# Dentro del bucle se transforman las coordenadas de la cuadrícula a las de la imagen\n",
    "for r in rectangles:\n",
    "    start_x = r.x * division_size + margin\n",
    "    start_y = r.y * division_size + margin\n",
    "    width = r.end_x - r.x\n",
    "    height = r.end_y - r.y\n",
    "    cv2.rectangle(mondrian_img,(start_x ,start_y), (start_x + division_size * width, start_y + division_size * height), r.color,-1)\n",
    "\n",
    "\n",
    "plt.imshow(mondrian_img)\n",
    "\n",
    "# Se guarda la imagen en disco para venderla\n",
    "bgr_img = cv2.cvtColor(mondrian_img, cv2.COLOR_BGR2RGB)\n",
    "cv2.imwrite('mondrian.jpg', bgr_img)"
   ],
   "id": "d4915c769e3bb295"
  },
  {
   "metadata": {},
   "cell_type": "markdown",
   "source": "### 3 - Modificar los planos de color",
   "id": "f984b4840a3d4e3c"
  },
  {
   "metadata": {},
   "cell_type": "code",
   "outputs": [],
   "execution_count": null,
   "source": [
    "vid = cv2.VideoCapture(0)\n",
    "\n",
    "while(True):\n",
    "    # fotograma a fotograma\n",
    "    ret, frame = vid.read()\n",
    "\n",
    "    if ret:\n",
    "        # Se redimensiona la captura de la cámara para hacer un collage\n",
    "        h, w, c = frame.shape\n",
    "        new_size = (int(w*0.6),int(h/2))\n",
    "        new_size_rgb = (new_size[1], new_size[0], 3)\n",
    "        frame = cv2.resize(frame, new_size, cv2.INTER_NEAREST)\n",
    "\n",
    "        # Separamos canales de color\n",
    "        b = frame[:,:,0]\n",
    "        g = frame[:,:,1]\n",
    "        r = frame[:,:,2]\n",
    "\n",
    "        # Se inicializan los recuadros correspondientes\n",
    "        red = np.zeros(new_size_rgb, dtype = np.uint8)\n",
    "        blue = np.zeros(new_size_rgb, dtype = np.uint8)\n",
    "        green = np.zeros(new_size_rgb, dtype = np.uint8)\n",
    "\n",
    "        yellow = np.zeros(new_size_rgb, dtype = np.uint8)\n",
    "        magenta = np.zeros(new_size_rgb, dtype = np.uint8)\n",
    "        cyan = np.zeros(new_size_rgb, dtype = np.uint8)\n",
    "\n",
    "        invert_red = np.zeros(new_size_rgb, dtype = np.uint8)\n",
    "        invert_green = np.zeros(new_size_rgb, dtype = np.uint8)\n",
    "        invert_blue = np.zeros(new_size_rgb, dtype = np.uint8)\n",
    "\n",
    "        creepy_1 = np.zeros(new_size_rgb, dtype = np.uint8)\n",
    "        creepy_2 = np.zeros(new_size_rgb, dtype = np.uint8)\n",
    "        creepy_3 = np.zeros(new_size_rgb, dtype = np.uint8)\n",
    "\n",
    "        # Se separan los planos RGB\n",
    "        red[:,:,2] = r\n",
    "        green[:,:,1] = g\n",
    "        blue[:,:,0] = b\n",
    "\n",
    "        # Se crean los colores primarios del esquema de color CMY\n",
    "        yellow[:,:,2] = r\n",
    "        yellow[:,:,1] = g\n",
    "\n",
    "        magenta[:,:,2] = r\n",
    "        magenta[:,:,0] = b\n",
    "\n",
    "        cyan[:,:,1] = g\n",
    "        cyan[:,:,0] = b\n",
    "\n",
    "        # Se invierte cada canal de color\n",
    "        invert_red[:,:,2] = 255 - r\n",
    "        invert_red[:,:,1] = g\n",
    "        invert_red[:,:,0] = b\n",
    "\n",
    "        invert_green[:,:,2] = r\n",
    "        invert_green[:,:,1] = 255 - g\n",
    "        invert_green[:,:,0] = b\n",
    "\n",
    "        invert_blue[:,:,2] = r\n",
    "        invert_blue[:,:,1] = g\n",
    "        invert_blue[:,:,0] = 255 - b\n",
    "\n",
    "        # Experimentando para obtener imágenes espeluznantes\n",
    "        creepy_1[:,:,2] = 140 - r\n",
    "        creepy_1[:,:,1] = b/3\n",
    "        creepy_1[:,:,0] = 0\n",
    "\n",
    "        creepy_2[:,:,2] = 60 - b\n",
    "        creepy_2[:,:,1] = 0\n",
    "        creepy_2[:,:,0] = g\n",
    "\n",
    "        creepy_3[:,:,2] = 255 - b\n",
    "        creepy_3[:,:,1] = 60 - r\n",
    "        creepy_3[:,:,0] = 30 - g\n",
    "\n",
    "\n",
    "        # Se crean las filas\n",
    "        rgb_collage = np.hstack((red, green, blue))\n",
    "        ymc_collage = np.hstack((yellow, magenta, cyan))\n",
    "        invert_collage = np.hstack((invert_red, invert_green, invert_blue))\n",
    "        creepy_collage = np.hstack((creepy_1, creepy_2, creepy_3))\n",
    "\n",
    "        # Se finaliza el collage agrupando en vertical\n",
    "        collage = np.vstack((rgb_collage, ymc_collage, invert_collage, creepy_collage))\n",
    "\n",
    "        cv2.imshow('Color planes', collage)\n",
    "\n",
    "    # Detenemos pulsado ESC\n",
    "    if cv2.waitKey(20) == 27:\n",
    "        break\n",
    "\n",
    "vid.release()\n",
    "cv2.destroyAllWindows()"
   ],
   "id": "d6d365ef64a81de9"
  },
  {
   "metadata": {},
   "cell_type": "markdown",
   "source": "### 4 - Encontrar el punto más claro y más oscuro de una imagen",
   "id": "2bf84ea74dcc808a"
  },
  {
   "metadata": {
    "ExecuteTime": {
     "end_time": "2025-09-13T13:22:40.121247Z",
     "start_time": "2025-09-13T13:22:31.535338Z"
    }
   },
   "cell_type": "code",
   "source": [
    "\n",
    "\n",
    "pixels = cv2.imread(\"mondrian.jpg\", cv2.IMREAD_COLOR)\n",
    "pixels=cv2.cvtColor(pixels,cv2.COLOR_BGR2RGB)\n",
    "oscuro,claro = np.array([255, 255, 255], dtype=np.int32),np.array([0, 0, 0], dtype=np.int32)\n",
    "coordXYC,coordXYO=[0,0],[0,0]\n",
    "\n",
    "for fila in range(0,pixels.shape[0]):\n",
    "    for columna in range(0,pixels.shape[1]):\n",
    "          pixel = pixels[fila, columna].astype(np.int32)\n",
    "          if np.sum(pixel) > np.sum(claro):\n",
    "            claro = pixel\n",
    "            coordXYC = [fila, columna]\n",
    "          if np.sum(pixel) < np.sum(oscuro):\n",
    "            oscuro = pixel\n",
    "            coordXYO = [fila, columna]\n",
    "\n",
    "pixels = pixels.astype(np.uint8)\n",
    "print(pixels[coordXYC[0],coordXYC[1]])\n",
    "print(pixels[coordXYO[0],coordXYO[1]])\n",
    "cv2.circle(pixels, (coordXYC[1], coordXYC[0]), 20, color=(255, 0, 0), thickness=-1)\n",
    "cv2.circle(pixels, (coordXYO[1], coordXYO[0]), 20, color=(255, 255, 255), thickness=-1)\n",
    "plt.imshow(pixels)\n",
    "plt.show()\n"
   ],
   "id": "800019557dc2ca25",
   "outputs": [
    {
     "name": "stdout",
     "output_type": "stream",
     "text": [
      "[255 255 255]\n",
      "[0 0 0]\n"
     ]
    },
    {
     "data": {
      "text/plain": [
       "<Figure size 640x480 with 1 Axes>"
      ],
      "image/png": "[encoded data removed]"
     },
     "metadata": {},
     "output_type": "display_data",
     "jetTransient": {
      "display_id": null
     }
    }
   ],
   "execution_count": 11
  }
 ],
 "metadata": {
  "kernelspec": {
   "display_name": "Python 3",
   "language": "python",
   "name": "python3"
  },
  "language_info": {
   "codemirror_mode": {
    "name": "ipython",
    "version": 2
   },
   "file_extension": ".py",
   "mimetype": "text/x-python",
   "name": "python",
   "nbconvert_exporter": "python",
   "pygments_lexer": "ipython2",
   "version": "2.7.6"
  }
 },
 "nbformat": 4,
 "nbformat_minor": 5
}
